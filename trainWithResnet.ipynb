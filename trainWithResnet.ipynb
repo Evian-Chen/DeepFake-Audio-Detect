{
  "cells": [
    {
      "cell_type": "code",
      "execution_count": null,
      "metadata": {
        "id": "wdUxn3DSRJAR"
      },
      "outputs": [],
      "source": [
        "# connect to google drive\n",
        "from google.colab import drive\n",
        "drive.mount('/content/drive', force_remount=True)\n",
        "FOLDERNAME = 'AI\\ poster'\n",
        "%cd drive/MyDrive/$FOLDERNAME"
      ]
    },
    {
      "cell_type": "code",
      "execution_count": null,
      "metadata": {
        "id": "mNSBTYejRRXA"
      },
      "outputs": [],
      "source": [
        "# device\n",
        "import torch, os\n",
        "if torch.cuda.is_available():\n",
        "  device = torch.device('cuda')\n",
        "else:\n",
        "  device = torch.device('cpu')\n",
        "print('Device:', device)\n",
        "print(os.getcwd())"
      ]
    },
    {
      "cell_type": "code",
      "source": [
        "import shutil\n",
        "train_path = '/content/drive/MyDrive/AI poster/PA/ASVspoof2019_PA_asv_train'\n",
        "os.chdir(train_path+'/wav_train')\n",
        "\n",
        "for png in os.listdir(train_path+'/wav_train/spoof_1'):\n",
        "  shutil.move(train_path+'/wav_train/spoof_1/'+png, train_path+'/wav_train/spoof')"
      ],
      "metadata": {
        "id": "w55601z7Y83B"
      },
      "execution_count": null,
      "outputs": []
    },
    {
      "cell_type": "code",
      "execution_count": null,
      "metadata": {
        "id": "ef9rRA3ARgx7"
      },
      "outputs": [],
      "source": [
        "%pip install pydub\n",
        "%pip install torchaudio\n",
        "\n",
        "# for data preproccessing\n",
        "from pathlib import PurePath\n",
        "from pydub import AudioSegment\n",
        "import shutil\n",
        "\n",
        "# for loading data from drive\n",
        "from torch.utils.data import DataLoader\n",
        "import torchaudio.datasets as dset\n",
        "\n",
        "# for creating waveform\n",
        "import numpy as np\n",
        "import soundfile as sf\n",
        "import scipy.signal as signal\n",
        "import matplotlib.pyplot as plt"
      ]
    },
    {
      "cell_type": "code",
      "execution_count": null,
      "metadata": {
        "id": "IOSFlverRi-g"
      },
      "outputs": [],
      "source": [
        "train_path = '/content/drive/MyDrive/AI poster/PA/ASVspoof2019_PA_asv_train'\n",
        "\n",
        "os.chdir(train_path)"
      ]
    },
    {
      "cell_type": "code",
      "execution_count": null,
      "metadata": {
        "id": "n-qToTmHgcC-"
      },
      "outputs": [],
      "source": [
        "os.mkdir(train_path+'/wav_train_30000')\n",
        "os.mkdir(train_path+'/wav_train_30000/spoof')\n",
        "os.mkdir(train_path+'/wav_train_30000/bonafide')\n",
        "\n",
        "os.mkdir(train_path+'/wav_val_30000')\n",
        "os.mkdir(train_path+'/wav_val_30000/spoof')\n",
        "os.mkdir(train_path+'/wav_val_30000/bonafide')"
      ]
    },
    {
      "cell_type": "code",
      "execution_count": null,
      "metadata": {
        "id": "tDkkwkoBuRMF"
      },
      "outputs": [],
      "source": [
        "import os\n",
        "print(os.getcwd())\n",
        "train_path = '/content/drive/MyDrive/AI poster/PA/ASVspoof2019_PA_asv_train'\n",
        "os.chdir(train_path)\n",
        "\n",
        "print(len(os.listdir(train_path+'/wav_train_30000/spoof')))\n",
        "print(len(os.listdir(train_path+'/wav_train_30000/bonafide')))\n",
        "print(len(os.listdir(train_path+'/wav_val_30000/spoof')))\n",
        "print(len(os.listdir(train_path+'/wav_val_30000/bonafide')))\n"
      ]
    },
    {
      "cell_type": "code",
      "execution_count": null,
      "metadata": {
        "id": "kg4u12W47qiF"
      },
      "outputs": [],
      "source": [
        "%pip install pydub\n",
        "%pip install torchaudio\n",
        "\n",
        "# for data preproccessing\n",
        "from pathlib import PurePath\n",
        "from pydub import AudioSegment\n",
        "import shutil\n",
        "\n",
        "# for loading data from drive\n",
        "from torch.utils.data import DataLoader\n",
        "import torchaudio.datasets as dset\n",
        "\n",
        "# for creating waveform\n",
        "import numpy as np\n",
        "import soundfile as sf\n",
        "import scipy.signal as signal\n",
        "import matplotlib.pyplot as plt\n",
        "\n",
        "# labeling\n",
        "labels={}\n",
        "with open('/content/drive/MyDrive/AI poster/PA/ASVspoof2019_PA_cm_protocols/ASVspoof2019.PA.cm.train.trn.txt','r') as f:\n",
        "  for line in f:\n",
        "    labels[line.split()[1]]=line.split()[-1]\n",
        "print(labels)\n",
        "\n",
        "wav_names = os.listdir('/content/drive/.shortcut-targets-by-id/1RS_eU17m1jbzKezF_6yS85UbgONfLHtY/AI poster/PA_T/ASVspoof2019_PA_train/wav')\n",
        "wav_names=sorted(wav_names, reverse=True)\n",
        "print(wav_names[500])\n",
        "\n",
        "train_path = '/content/drive/MyDrive/AI poster/PA/ASVspoof2019_PA_asv_train'\n",
        "PA_T_wav_path = '/content/drive/.shortcut-targets-by-id/1RS_eU17m1jbzKezF_6yS85UbgONfLHtY/AI poster/PA_T/ASVspoof2019_PA_train/wav'\n",
        "\n",
        "\n",
        "import wave\n",
        "\n",
        "for wav_name in wav_names:\n",
        "  if not os.path.exists(train_path+'/wav_train/spoof/'+wav_name[:len(wav_name)-4]+'.png') and not os.path.exists(train_path+'/wav_val/spoof/'+wav_name[:len(wav_name)-4]+'.png') and not os.path.exists(train_path+'/wav_val/bonafide/'+wav_name[:len(wav_name)-4]+'.png') and not os.path.exists(train_path+'/wav_train/bonafide/'+wav_name[:len(wav_name)-4]+'.png'):\n",
        "    os.chdir(PA_T_wav_path)\n",
        "\n",
        "    wav_obj = wave.open(PA_T_wav_path+'/'+wav_name, 'rb')\n",
        "\n",
        "    freq = wav_obj.getframerate() # Hz per sec\n",
        "    n_freq = wav_obj.getnframes() # total Hz\n",
        "    time = n_freq/freq      # lengh of the audio(s)\n",
        "    # print(f'audio time: {time}')\n",
        "\n",
        "    # channel check (1 channel)\n",
        "    n_channels = wav_obj.getnchannels()\n",
        "    # print(f'channel: {n_channels}')\n",
        "\n",
        "    signal_wave = wav_obj.readframes(n_freq)\n",
        "    signal_array = np.frombuffer(signal_wave, dtype=np.int16)\n",
        "\n",
        "    # create waveform\n",
        "    times = np.linspace(0, time, num=n_freq)\n",
        "    plt.figure(figsize=(15, 5))\n",
        "    plt.plot(times, signal_array)\n",
        "    plt.title(wav_name)\n",
        "    plt.xlabel('time(s)')\n",
        "    plt.xlim(0, time)\n",
        "    plt.ylabel('signal value')\n",
        "\n",
        "    # save img (40% val 60% train)\n",
        "    if int(wav_name[11]) < 4:\n",
        "      if labels[wav_name[:12]] == 'bonafide':\n",
        "        os.chdir(train_path+'/wav_val/bonafide')\n",
        "      else:\n",
        "        os.chdir(train_path+'/wav_val/spoof')\n",
        "      plt.savefig(wav_name[:len(wav_name)-4]+'.png')\n",
        "\n",
        "    else:\n",
        "      if labels[wav_name[:12]] == 'bonafide':\n",
        "        os.chdir(train_path+'/wav_train/bonafide')\n",
        "      else:\n",
        "        os.chdir(train_path+'/wav_train/spoof')\n",
        "      plt.savefig(wav_name[:len(wav_name)-4]+'.png')\n",
        "\n",
        "    print(wav_name)"
      ]
    },
    {
      "cell_type": "code",
      "execution_count": null,
      "metadata": {
        "id": "22feLD46Rlbq"
      },
      "outputs": [],
      "source": [
        "import torchvision.datasets as dset\n",
        "import torchvision.transforms as T\n",
        "\n",
        "transform = T.Compose([T.RandomHorizontalFlip(p=1),T.Resize((224,224))])\n",
        "\n",
        "train = dset.ImageFolder('wav_train', transform=transform)\n",
        "val = dset.ImageFolder('wav_val', transform=transform)"
      ]
    },
    {
      "cell_type": "code",
      "execution_count": null,
      "metadata": {
        "id": "olkCLU75Rmas"
      },
      "outputs": [],
      "source": [
        "from torch.utils.data import DataLoader\n",
        "mini_trains = DataLoader(train, batch_size=50, shuffle=True)\n",
        "mini_vals = DataLoader(val, batch_size=50, shuffle=True)"
      ]
    },
    {
      "cell_type": "code",
      "execution_count": null,
      "metadata": {
        "id": "RuZSyHZcRndY"
      },
      "outputs": [],
      "source": [
        "from torchvision import models\n",
        "import torch.nn as nn\n",
        "import torch.optim as optim\n",
        "\n",
        "resnet = models.resnet50(pretrained=True).cuda()\n",
        "num_flatten = resnet.fc.in_features\n",
        "resnet.fc = nn.Linear(num_flatten, 2)\n",
        "model = resnet.to(device)\n",
        "optimizer = optim.Adam(model.parameters(), lr=1e-4)"
      ]
    },
    {
      "cell_type": "code",
      "execution_count": null,
      "metadata": {
        "id": "agTk694HRo1A"
      },
      "outputs": [],
      "source": [
        "NUM_EPOCH = 3\n",
        "PRINT_EVERY = 1000"
      ]
    },
    {
      "cell_type": "code",
      "execution_count": null,
      "metadata": {
        "id": "xioWlNVhohZL"
      },
      "outputs": [],
      "source": [
        "model.summary()"
      ]
    },
    {
      "cell_type": "code",
      "execution_count": null,
      "metadata": {
        "id": "FVFp8k7pRqyt"
      },
      "outputs": [],
      "source": [
        "def evaluate(model, mini_vals):\n",
        "  model.eval()\n",
        "  with torch.no_grad():\n",
        "    total_acc = 0\n",
        "    for x, y in mini_vals:\n",
        "      x = x.to(device)\n",
        "      y = y.to(device)\n",
        "      scores = model(x)\n",
        "      predictions = scores.max(1)[1]\n",
        "      acc = predictions.eq(y).sum().item()\n",
        "      total_acc += acc\n",
        "    print('acc: ' ,total_acc / len(val))"
      ]
    },
    {
      "cell_type": "code",
      "execution_count": null,
      "metadata": {
        "id": "advZLV-TRr9S"
      },
      "outputs": [],
      "source": [
        "for epoch in range(NUM_EPOCH):\n",
        "  for counter, (x, y) in enumerate(mini_trains):\n",
        "    model.train()\n",
        "    x = x.to(device)\n",
        "    y = y.to(device)\n",
        "    scores = model(x)\n",
        "    loss_function = nn.CrossEntropyLoss()\n",
        "    loss = loss_function(scores, y)\n",
        "    if counter % PRINT_EVERY == 0:\n",
        "      print(f'epoch {epoch+1} :{loss.item()}', end='/')\n",
        "      evaluate(model, mini_vals)\n",
        "    optimizer.zero_grad()\n",
        "    loss.backward()\n",
        "    optimizer.step()"
      ]
    }
  ],
  "metadata": {
    "accelerator": "GPU",
    "colab": {
      "machine_shape": "hm",
      "provenance": []
    },
    "gpuClass": "standard",
    "kernelspec": {
      "display_name": "Python 3",
      "name": "python3"
    },
    "language_info": {
      "name": "python"
    }
  },
  "nbformat": 4,
  "nbformat_minor": 0
}