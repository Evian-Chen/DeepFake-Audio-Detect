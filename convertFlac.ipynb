{
  "cells": [
    {
      "cell_type": "code",
      "execution_count": null,
      "metadata": {
        "id": "7mjwTtbLueDF"
      },
      "outputs": [],
      "source": [
        "# connect to google drive\n",
        "from google.colab import drive\n",
        "drive.mount('/content/drive', force_remount=True)\n",
        "FOLDERNAME = 'AI\\ poster'\n",
        "%cd drive/MyDrive/$FOLDERNAME"
      ]
    },
    {
      "cell_type": "code",
      "execution_count": null,
      "metadata": {
        "id": "waQRyQP4uhgG"
      },
      "outputs": [],
      "source": [
        "# device\n",
        "import torch, os\n",
        "if torch.cuda.is_available():\n",
        "  device = torch.device('cuda')\n",
        "else:\n",
        "  device = torch.device('cpu')\n",
        "print('Device:', device)\n",
        "print(os.getcwd())"
      ]
    },
    {
      "cell_type": "code",
      "execution_count": null,
      "metadata": {
        "id": "66nt9CtIum7n"
      },
      "outputs": [],
      "source": [
        "%pip install pydub\n",
        "%pip install torchaudio\n",
        "\n",
        "# for data preproccessing\n",
        "from pathlib import PurePath\n",
        "from pydub import AudioSegment\n",
        "import shutil\n",
        "\n",
        "# for loading data from drive\n",
        "from torch.utils.data import DataLoader\n",
        "import torchaudio.datasets as dset\n",
        "\n",
        "# for creating waveform\n",
        "import numpy as np\n",
        "import soundfile as sf\n",
        "import scipy.signal as signal\n",
        "import matplotlib.pyplot as plt"
      ]
    },
    {
      "cell_type": "code",
      "execution_count": null,
      "metadata": {
        "id": "Ke2raM6KuoZI"
      },
      "outputs": [],
      "source": [
        "# labeling\n",
        "labels={}\n",
        "with open('/content/drive/MyDrive/AI poster/PA/ASVspoof2019_PA_cm_protocols/ASVspoof2019.PA.cm.train.trn.txt','r') as f:\n",
        "  for line in f:\n",
        "    if line.split()[-1] == 'spoof':\n",
        "      labels[line.split()[1]]=line.split()[-1]\n",
        "print(labels)"
      ]
    },
    {
      "cell_type": "code",
      "execution_count": null,
      "metadata": {
        "id": "IxtOX9ULvIHN"
      },
      "outputs": [],
      "source": [
        "wav_names = os.listdir('/content/drive/.shortcut-targets-by-id/1RS_eU17m1jbzKezF_6yS85UbgONfLHtY/AI poster/PA_T/ASVspoof2019_PA_train/wav')\n",
        "wav_names=sorted(wav_names, reverse=True)"
      ]
    },
    {
      "cell_type": "code",
      "execution_count": null,
      "metadata": {
        "id": "etKySbmL6cSk"
      },
      "outputs": [],
      "source": [
        "train_path = '/content/drive/MyDrive/AI poster/PA/ASVspoof2019_PA_asv_train'"
      ]
    },
    {
      "cell_type": "code",
      "execution_count": null,
      "metadata": {
        "id": "DDgnTnS_vLNN"
      },
      "outputs": [],
      "source": [
        "PA_T_wav_path = '/content/drive/.shortcut-targets-by-id/1RS_eU17m1jbzKezF_6yS85UbgONfLHtY/AI poster/PA_T/ASVspoof2019_PA_train/wav'\n",
        "\n",
        "import wave\n",
        "\n",
        "for wav_name in wav_names:\n",
        "  if not os.path.exists(train_path+'/wav_train/spoof/'+wav_name[:len(wav_name)-4]+'.png') and not os.path.exists(train_path+'/wav_val/spoof/'+wav_name[:len(wav_name)-4]+'.png') and not os.path.exists(train_path+'/wav_val/bonafide/'+wav_name[:len(wav_name)-4]+'.png') and not os.path.exists(train_path+'/wav_train/bonafide/'+wav_name[:len(wav_name)-4]+'.png'):\n",
        "    os.chdir(PA_T_wav_path)\n",
        "\n",
        "    if 'wav' in wav_name:\n",
        "      wav_obj = wave.open(PA_T_wav_path+'/'+wav_name, 'rb')\n",
        "\n",
        "      freq = wav_obj.getframerate() # Hz per sec\n",
        "      n_freq = wav_obj.getnframes() # total Hz\n",
        "      time = n_freq/freq      # lengh of the audio(s)\n",
        "      # print(f'audio time: {time}')\n",
        "\n",
        "      # channel check (1 channel)\n",
        "      n_channels = wav_obj.getnchannels()\n",
        "      # print(f'channel: {n_channels}')\n",
        "\n",
        "      signal_wave = wav_obj.readframes(n_freq)\n",
        "      signal_array = np.frombuffer(signal_wave, dtype=np.int16)\n",
        "\n",
        "      # create waveform\n",
        "      times = np.linspace(0, time, num=n_freq)\n",
        "      plt.figure(figsize=(15, 5))\n",
        "      plt.plot(times, signal_array)\n",
        "      plt.title(wav_name)\n",
        "      plt.xlabel('time(s)')\n",
        "      plt.xlim(0, time)\n",
        "      plt.ylabel('signal value')\n",
        "\n",
        "      if labels[wav_name[:12]] == 'bonafide':\n",
        "        os.chdir(train_path+'/wav_train/bonafide')\n",
        "      else:\n",
        "        os.chdir(train_path+'/wav_train/spoof')\n",
        "      plt.savefig(wav_name[:len(wav_name)-4]+'.png')\n",
        "\n",
        "    print(wav_name+' : '+labels[wav_name[:12]])"
      ]
    }
  ],
  "metadata": {
    "accelerator": "GPU",
    "colab": {
      "machine_shape": "hm",
      "provenance": []
    },
    "gpuClass": "standard",
    "kernelspec": {
      "display_name": "Python 3",
      "name": "python3"
    },
    "language_info": {
      "name": "python"
    }
  },
  "nbformat": 4,
  "nbformat_minor": 0
}